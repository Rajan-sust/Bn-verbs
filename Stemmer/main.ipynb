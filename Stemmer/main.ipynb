{
  "nbformat": 4,
  "nbformat_minor": 0,
  "metadata": {
    "colab": {
      "name": "One-hot-encoder-for-bengali.ipynb",
      "version": "0.3.2",
      "provenance": [],
      "collapsed_sections": []
    },
    "kernelspec": {
      "name": "python3",
      "display_name": "Python 3"
    }
  },
  "cells": [
    {
      "cell_type": "code",
      "metadata": {
        "id": "Xm_OH_QwgN64",
        "colab_type": "code",
        "colab": {}
      },
      "source": [
        "import pandas as pd\n",
        "import numpy as np"
      ],
      "execution_count": 0,
      "outputs": []
    },
    {
      "cell_type": "code",
      "metadata": {
        "id": "xEtTE-14nyyd",
        "colab_type": "code",
        "colab": {}
      },
      "source": [
        "try:\n",
        "  %tensorflow_version 2.x\n",
        "except Exception:\n",
        "  pass\n"
      ],
      "execution_count": 0,
      "outputs": []
    },
    {
      "cell_type": "code",
      "metadata": {
        "id": "NoedsqYboAnx",
        "colab_type": "code",
        "colab": {}
      },
      "source": [
        "import tensorflow as tf\n",
        "from tensorflow import keras"
      ],
      "execution_count": 0,
      "outputs": []
    },
    {
      "cell_type": "code",
      "metadata": {
        "id": "JUd7T4V6lI-F",
        "colab_type": "code",
        "colab": {}
      },
      "source": [
        "consonant = 'অআইঈউঊঋএঐওঔ'"
      ],
      "execution_count": 0,
      "outputs": []
    },
    {
      "cell_type": "code",
      "metadata": {
        "id": "pqB6tf4-loK6",
        "colab_type": "code",
        "colab": {}
      },
      "source": [
        "vowel = 'কখগঘঙচছজঝঞটঠডঢণতথদধনপফবভমযরলশষসহড়ঢ়য়ঁংঃৎ'"
      ],
      "execution_count": 0,
      "outputs": []
    },
    {
      "cell_type": "code",
      "metadata": {
        "id": "btdqoJ4flsHH",
        "colab_type": "code",
        "colab": {}
      },
      "source": [
        "diacritics = 'ািীুূৃেৈোৌ'"
      ],
      "execution_count": 0,
      "outputs": []
    },
    {
      "cell_type": "code",
      "metadata": {
        "id": "ggRdu53klvQw",
        "colab_type": "code",
        "outputId": "c9e6117d-b442-4927-cb06-d43ebc295516",
        "colab": {
          "base_uri": "https://localhost:8080/",
          "height": 34
        }
      },
      "source": [
        "# ['ক'+ch for ch in diacritics]"
      ],
      "execution_count": 68,
      "outputs": [
        {
          "output_type": "execute_result",
          "data": {
            "text/plain": [
              "['কা', 'কি', 'কী', 'কু', 'কূ', 'কৃ', 'কে', 'কৈ', 'কো', 'কৌ']"
            ]
          },
          "metadata": {
            "tags": []
          },
          "execution_count": 68
        }
      ]
    },
    {
      "cell_type": "code",
      "metadata": {
        "id": "JFOWGxTKmMSp",
        "colab_type": "code",
        "colab": {}
      },
      "source": [
        "hasant = '্'"
      ],
      "execution_count": 0,
      "outputs": []
    },
    {
      "cell_type": "code",
      "metadata": {
        "id": "Ov9EXGy_mVjK",
        "colab_type": "code",
        "colab": {}
      },
      "source": [
        "# Length = (11 + 39 + 10 + 1) = 61 \n",
        "alphabet = consonant + vowel + diacritics + hasant"
      ],
      "execution_count": 0,
      "outputs": []
    },
    {
      "cell_type": "code",
      "metadata": {
        "id": "K8J1VcuWmekx",
        "colab_type": "code",
        "colab": {}
      },
      "source": [
        "alphabet_to_num = dict((ch,idx) for idx, ch in enumerate(alphabet))\n",
        "num_to_alphabet = dict((idx,ch) for idx, ch in enumerate(alphabet))"
      ],
      "execution_count": 0,
      "outputs": []
    },
    {
      "cell_type": "code",
      "metadata": {
        "id": "-B4GXeNzZ5-x",
        "colab_type": "code",
        "colab": {}
      },
      "source": [
        "def text_preprocess(text):\n",
        "  mp = {\n",
        "      'ব' + '়' : chr(2480),\n",
        "      'ড' + '়' : chr(2524),\n",
        "      'ঢ' + '়' : chr(2525),\n",
        "      'য' + '়' : chr(2527)\n",
        "  }\n",
        "  text = text.strip()\n",
        "  for key in mp:\n",
        "    text = text.replace(key, mp[key])\n",
        "  return text"
      ],
      "execution_count": 0,
      "outputs": []
    },
    {
      "cell_type": "code",
      "metadata": {
        "id": "GdNlf1ufmgKD",
        "colab_type": "code",
        "colab": {}
      },
      "source": [
        "def one_hot_encoding(text):\n",
        "  text = text_preprocess(text)\n",
        "  # representing every word as a 2d Tensor (15 x 61)\n",
        "  tensor = np.zeros((15,61), dtype = int)\n",
        "  for idx, ch in enumerate(text):\n",
        "    tensor[idx][alphabet_to_num[ch]] = 1\n",
        "  return tensor"
      ],
      "execution_count": 0,
      "outputs": []
    },
    {
      "cell_type": "code",
      "metadata": {
        "id": "xJMuFNmvI4YN",
        "colab_type": "code",
        "colab": {}
      },
      "source": [
        "dataset = pd.read_csv('https://raw.githubusercontent.com/Rajan-sust/NLP-For-Bengali/master/Bengali-Labeled-verbs/LabeledVerbs.tsv', sep = '\\t')"
      ],
      "execution_count": 0,
      "outputs": []
    },
    {
      "cell_type": "code",
      "metadata": {
        "id": "OlL7pX3XJJYl",
        "colab_type": "code",
        "colab": {
          "base_uri": "https://localhost:8080/",
          "height": 204
        },
        "outputId": "bf5770c3-bf19-43c9-ccab-a7103a63a6ee"
      },
      "source": [
        "dataset.head()"
      ],
      "execution_count": 75,
      "outputs": [
        {
          "output_type": "execute_result",
          "data": {
            "text/html": [
              "<div>\n",
              "<style scoped>\n",
              "    .dataframe tbody tr th:only-of-type {\n",
              "        vertical-align: middle;\n",
              "    }\n",
              "\n",
              "    .dataframe tbody tr th {\n",
              "        vertical-align: top;\n",
              "    }\n",
              "\n",
              "    .dataframe thead th {\n",
              "        text-align: right;\n",
              "    }\n",
              "</style>\n",
              "<table border=\"1\" class=\"dataframe\">\n",
              "  <thead>\n",
              "    <tr style=\"text-align: right;\">\n",
              "      <th></th>\n",
              "      <th>Inflectional word</th>\n",
              "      <th>Root word</th>\n",
              "    </tr>\n",
              "  </thead>\n",
              "  <tbody>\n",
              "    <tr>\n",
              "      <th>0</th>\n",
              "      <td>আঁকে</td>\n",
              "      <td>আঁকা</td>\n",
              "    </tr>\n",
              "    <tr>\n",
              "      <th>1</th>\n",
              "      <td>এঁকেছে</td>\n",
              "      <td>আঁকা</td>\n",
              "    </tr>\n",
              "    <tr>\n",
              "      <th>2</th>\n",
              "      <td>এঁকে</td>\n",
              "      <td>আঁকা</td>\n",
              "    </tr>\n",
              "    <tr>\n",
              "      <th>3</th>\n",
              "      <td>আগায়</td>\n",
              "      <td>আগানো</td>\n",
              "    </tr>\n",
              "    <tr>\n",
              "      <th>4</th>\n",
              "      <td>আগিয়েছে</td>\n",
              "      <td>আগানো</td>\n",
              "    </tr>\n",
              "  </tbody>\n",
              "</table>\n",
              "</div>"
            ],
            "text/plain": [
              "  Inflectional word Root word\n",
              "0              আঁকে      আঁকা\n",
              "1            এঁকেছে      আঁকা\n",
              "2              এঁকে      আঁকা\n",
              "3             আগায়     আগানো\n",
              "4          আগিয়েছে     আগানো"
            ]
          },
          "metadata": {
            "tags": []
          },
          "execution_count": 75
        }
      ]
    },
    {
      "cell_type": "code",
      "metadata": {
        "id": "EflT1lUOJPCu",
        "colab_type": "code",
        "colab": {}
      },
      "source": [
        "x_train_series = dataset['Inflectional word'].apply(lambda x: one_hot_encoding(x))\n"
      ],
      "execution_count": 0,
      "outputs": []
    },
    {
      "cell_type": "code",
      "metadata": {
        "id": "Y9OYqAlfo9e9",
        "colab_type": "code",
        "colab": {}
      },
      "source": [
        "x_train_tf = tf.constant(x_train_series)"
      ],
      "execution_count": 0,
      "outputs": []
    },
    {
      "cell_type": "code",
      "metadata": {
        "id": "6lgQEi8m9xdp",
        "colab_type": "code",
        "colab": {}
      },
      "source": [
        "x_train = tf.map_fn(lambda x: tf.reshape(x,[915]), x_train_tf)"
      ],
      "execution_count": 0,
      "outputs": []
    },
    {
      "cell_type": "code",
      "metadata": {
        "id": "GJd2GNTS-8Os",
        "colab_type": "code",
        "colab": {
          "base_uri": "https://localhost:8080/",
          "height": 153
        },
        "outputId": "408aed06-7b4f-41ad-eb33-43c19d6806e2"
      },
      "source": [
        "x_train"
      ],
      "execution_count": 79,
      "outputs": [
        {
          "output_type": "execute_result",
          "data": {
            "text/plain": [
              "<tf.Tensor: id=20280, shape=(300, 915), dtype=int32, numpy=\n",
              "array([[0, 1, 0, ..., 0, 0, 0],\n",
              "       [0, 0, 0, ..., 0, 0, 0],\n",
              "       [0, 0, 0, ..., 0, 0, 0],\n",
              "       ...,\n",
              "       [0, 0, 0, ..., 0, 0, 0],\n",
              "       [0, 0, 0, ..., 0, 0, 0],\n",
              "       [0, 0, 0, ..., 0, 0, 0]], dtype=int32)>"
            ]
          },
          "metadata": {
            "tags": []
          },
          "execution_count": 79
        }
      ]
    },
    {
      "cell_type": "code",
      "metadata": {
        "id": "6gaXXlz-dV1W",
        "colab_type": "code",
        "colab": {}
      },
      "source": [
        "y_train_series = dataset['Root word'].apply(lambda x: one_hot_encoding(x))"
      ],
      "execution_count": 0,
      "outputs": []
    },
    {
      "cell_type": "code",
      "metadata": {
        "id": "fbMQrONUg7lz",
        "colab_type": "code",
        "colab": {}
      },
      "source": [
        "y_train_tf = tf.constant(y_train_series)"
      ],
      "execution_count": 0,
      "outputs": []
    },
    {
      "cell_type": "code",
      "metadata": {
        "id": "Y-cRMpDV_zFy",
        "colab_type": "code",
        "colab": {}
      },
      "source": [
        "y_train = tf.map_fn(lambda x: tf.reshape(x, [915]), y_train_tf)"
      ],
      "execution_count": 0,
      "outputs": []
    },
    {
      "cell_type": "code",
      "metadata": {
        "id": "6sh0hbARAo4D",
        "colab_type": "code",
        "colab": {
          "base_uri": "https://localhost:8080/",
          "height": 153
        },
        "outputId": "b7861c78-c75f-4d52-dad0-cf6f7ae4d596"
      },
      "source": [
        "y_train"
      ],
      "execution_count": 83,
      "outputs": [
        {
          "output_type": "execute_result",
          "data": {
            "text/plain": [
              "<tf.Tensor: id=22992, shape=(300, 915), dtype=int32, numpy=\n",
              "array([[0, 1, 0, ..., 0, 0, 0],\n",
              "       [0, 1, 0, ..., 0, 0, 0],\n",
              "       [0, 1, 0, ..., 0, 0, 0],\n",
              "       ...,\n",
              "       [0, 0, 0, ..., 0, 0, 0],\n",
              "       [0, 0, 0, ..., 0, 0, 0],\n",
              "       [0, 0, 0, ..., 0, 0, 0]], dtype=int32)>"
            ]
          },
          "metadata": {
            "tags": []
          },
          "execution_count": 83
        }
      ]
    },
    {
      "cell_type": "code",
      "metadata": {
        "id": "Y-R-zoPDCYN4",
        "colab_type": "code",
        "colab": {}
      },
      "source": [
        ""
      ],
      "execution_count": 0,
      "outputs": []
    }
  ]
}